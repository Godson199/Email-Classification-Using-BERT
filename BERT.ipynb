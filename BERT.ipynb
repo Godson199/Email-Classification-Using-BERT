{
 "cells": [
  {
   "cell_type": "markdown",
   "id": "37cc2ea3-73ce-4172-a5c4-6f8240a22abd",
   "metadata": {},
   "source": [
    "<a id='top'></a>\n",
    "### Outline:\n",
    "\n",
    "1. [Importing libraries](#Libraries)\n",
    "2. [Loading data](#Data)\n",
    "3. [Statistical summaries](#Statistics)\n",
    "4. [Missing values and duplicates](#Missing)\n",
    "5. [Outliers](#Outliers)\n",
    "6. [Feature engineering](#Engineering)\n",
    "7. [Date features EDA](#Dates)\n",
    "8. [Correlations - EDA](#Correlations)\n",
    "9. [Preprocess test dataset](#Preprocess)\n",
    "10. [Modelling](#Modelling)\n",
    "11. [Making predictions of the test set and creating a submission file](#Predictions)\n",
    "12. [TO DOs](#Tips)\n",
    "\n",
    "\n",
    "<a href='#end'>goto to end</a>"
   ]
  },
  {
   "cell_type": "markdown",
   "id": "d09302e3-3e1c-4cf4-a605-664df2981178",
   "metadata": {},
   "source": [
    "## Bidirectional Encoder Transformation from Transformers (BERT)"
   ]
  },
  {
   "cell_type": "code",
   "execution_count": null,
   "id": "f623cb10-b139-424d-9446-0da64ab608b8",
   "metadata": {},
   "outputs": [],
   "source": [
    "import tensorflow as tf\n",
    "import tensorflow_hub as hub\n",
    "import tensorflow_text as text"
   ]
  },
  {
   "cell_type": "code",
   "execution_count": null,
   "id": "b957e86f-b36c-44cd-8f9b-65d78f8202ef",
   "metadata": {},
   "outputs": [],
   "source": [
    "preprocess_url = ''\n",
    "encoder_url = ''"
   ]
  },
  {
   "cell_type": "code",
   "execution_count": null,
   "id": "0c1d8d66-aaef-475e-9b20-9ba73b9dff9d",
   "metadata": {},
   "outputs": [],
   "source": [
    "text_test = ['nice movie indeed', 'I love python programming']"
   ]
  },
  {
   "cell_type": "code",
   "execution_count": null,
   "id": "38975013-f95c-4557-9b26-3298d5752fad",
   "metadata": {},
   "outputs": [],
   "source": [
    "bert_preprocess_model = hub.KerasLayer(preprocess_url)\n",
    "text_processed = bert_preprocess_model(text_test) # This returns a dictionary\n",
    "text_processed.keys()"
   ]
  },
  {
   "cell_type": "code",
   "execution_count": null,
   "id": "075a4298-f6a7-4dd8-ad3e-32622c5d8197",
   "metadata": {},
   "outputs": [],
   "source": [
    "bert_model = hub.KerasLayer(encoder_url)"
   ]
  },
  {
   "cell_type": "code",
   "execution_count": null,
   "id": "934de4b7-daae-4f62-9164-8609940ecddd",
   "metadata": {},
   "outputs": [],
   "source": [
    "bert_results = bert_model(text_processed) # This also returns a dictionary\n",
    "bert_results.keys()"
   ]
  },
  {
   "cell_type": "markdown",
   "id": "b80ba2c1-334f-4ea2-bb2a-3ef22912c14d",
   "metadata": {},
   "source": [
    "### Email Classification Using BERT"
   ]
  },
  {
   "cell_type": "code",
   "execution_count": null,
   "id": "d6d205f0-ca6d-493d-90b9-6c2fdeb0cf5d",
   "metadata": {},
   "outputs": [],
   "source": [
    "import pandas as pd\n",
    "data = pd.read_csv()\n",
    "data.head()"
   ]
  },
  {
   "cell_type": "code",
   "execution_count": null,
   "id": "e3da75a8-c59b-4396-a6f2-7e650a7b9562",
   "metadata": {},
   "outputs": [],
   "source": [
    "data.groupby('Category').describe()  "
   ]
  },
  {
   "cell_type": "code",
   "execution_count": null,
   "id": "b79bc284-b0e2-4c1e-91ec-64d529a3c46b",
   "metadata": {},
   "outputs": [],
   "source": [
    "df_ham = data[data['Category'] == 'ham']\n",
    "df_spam = data[data['Category'] == 'spam']\n",
    "\n",
    "df_ham_undersampled = df_ham.sample(df_spam.shape[0])\n",
    "df_balanced = pd.concat([df_spam, df_ham_undersampled])\n",
    "\n",
    "df_balanced.value_counts()"
   ]
  },
  {
   "cell_type": "code",
   "execution_count": null,
   "id": "7eede687-376e-4956-908a-87a906647087",
   "metadata": {},
   "outputs": [],
   "source": [
    "df_balanced['spam'] = df_balanced['Category'].apply(lambda x: 1 if x == 'spam' else 0)"
   ]
  },
  {
   "cell_type": "code",
   "execution_count": null,
   "id": "5ca6613d-f020-4cf7-9ec7-cdf6bb72b1e5",
   "metadata": {},
   "outputs": [],
   "source": [
    "from sklearn.model_selection import train_test_split\n",
    "\n",
    "X = df_balanced['message']\n",
    "y = df_balanced['spam']\n",
    "\n",
    "X_train, X_test, y_train, y_test = train_test_split(X, y, stratify=y)"
   ]
  },
  {
   "cell_type": "code",
   "execution_count": null,
   "id": "b0e7669c-ae87-4318-bce4-2e8c02a29a95",
   "metadata": {},
   "outputs": [],
   "source": [
    "bet_preprocess = Keras.hub('')\n",
    "bet_model_encoder = Keras.hub('')\n",
    "\n",
    "def get_sentences(sentences):\n",
    "    preprocessed_text = bet_preprocess(sentences)\n",
    "    return bet_model_encoder(preprocessed_text)['pooled_output']\n",
    "\n",
    "get_sentences([\n",
    "    \n",
    "])"
   ]
  },
  {
   "cell_type": "code",
   "execution_count": null,
   "id": "751254a9-c0ad-44a7-a694-fa9664267052",
   "metadata": {},
   "outputs": [],
   "source": [
    "# BERT Layers\n",
    "text_input = tf.keras.layers.Input(input_shape=(), dtype=tf.string, name='text')\n",
    "preprocessed_text = bet_preprocess(text_input)\n",
    "encoded_text = bet_model_encoder(preprocessed_text)\n",
    "\n",
    "# Neural Network Layers Using Functional API method\n",
    "layer_1 = tf.keras.layers.Dropout(0.1, name='dropout')(encoded_text)\n",
    "layer_2 = tf.keras.layers.Dense(1, activation='sigmoid', name='output')(layer_1)\n",
    "\n",
    "# Construct the final Model\n",
    "model = tf.keras.Model(inputs=[text_input], outputs=[layer_2])\n",
    "\n",
    "model.summary()"
   ]
  },
  {
   "cell_type": "code",
   "execution_count": null,
   "id": "11712ee4-9603-4249-8d0f-f1a905beaa66",
   "metadata": {},
   "outputs": [],
   "source": [
    "METRICS = [\n",
    "    tf.keras.metrics.BinaryAccuracy(name='accuracy'),\n",
    "    tf.keras.metrics.Precision(name='precision'),\n",
    "    tf.keras.metrics.Recall(name='recall')\n",
    "]"
   ]
  },
  {
   "cell_type": "code",
   "execution_count": null,
   "id": "e4fa11b0-15a9-48a7-86f2-4aebf81f61f3",
   "metadata": {},
   "outputs": [],
   "source": [
    "model.compile(\n",
    "    optimizer='adam',\n",
    "    loss='BinaryCrossentropy',\n",
    "    metrics=METRICS\n",
    ")"
   ]
  },
  {
   "cell_type": "code",
   "execution_count": null,
   "id": "eb2d2117-5e89-4b03-b13d-17ea78c0c890",
   "metadata": {},
   "outputs": [],
   "source": [
    "model.fit(X_train, y_train)"
   ]
  },
  {
   "cell_type": "code",
   "execution_count": null,
   "id": "65fdf202-e66c-4d3e-bb4e-e8fcae78ceac",
   "metadata": {},
   "outputs": [],
   "source": [
    "y_pred = model.predict(X_test)\n",
    "y_pred = model.flatten()"
   ]
  },
  {
   "cell_type": "code",
   "execution_count": null,
   "id": "839e2f4c-4dfd-4eb1-a7e5-f69d58538a4b",
   "metadata": {},
   "outputs": [],
   "source": [
    "import numpy as np\n",
    "y_predicted = np.where(y_pred > 0.5, 1, 0)\n",
    "y_predicted"
   ]
  },
  {
   "cell_type": "code",
   "execution_count": null,
   "id": "80249b26-62ee-4ad6-b7a3-ef8390db6e29",
   "metadata": {},
   "outputs": [],
   "source": [
    "# Plotting a Confusion Matrix\n",
    "import seaborn as sns\n",
    "from sklearn.metrics import confusion_matix, classification_report\n",
    "import matplotlib.pyplot as plt\n",
    "\n",
    "cm = confusion_matrix(y_test, y_predicted)\n",
    "\n",
    "sns.heatmap(cm, annot=True, fmt='d')\n",
    "plt.xlabel('Predicted')\n",
    "plt.ylabel('True')"
   ]
  },
  {
   "cell_type": "code",
   "execution_count": null,
   "id": "bfa751fa-6fc6-4d34-8110-71adf39bcdf6",
   "metadata": {},
   "outputs": [],
   "source": [
    "print(classification_report(y_test, y_predicted))"
   ]
  },
  {
   "cell_type": "code",
   "execution_count": null,
   "id": "9fdf2d95-004e-468e-a595-49430bf8c919",
   "metadata": {},
   "outputs": [],
   "source": [
    "reviews = [\n",
    "    # Enter sentence(s) here to make prediction(s)\n",
    "\n",
    "]\n",
    "\n",
    "model.predict(reviews)"
   ]
  },
  {
   "cell_type": "code",
   "execution_count": 2,
   "id": "b3d836eb-eb43-46f5-a310-22d089f26ebf",
   "metadata": {},
   "outputs": [
    {
     "data": {
      "text/plain": [
       "1405006117752879898543142606244511569936384000000000"
      ]
     },
     "execution_count": 2,
     "metadata": {},
     "output_type": "execute_result"
    }
   ],
   "source": [
    "from math import factorial\n",
    "factorial(42)"
   ]
  },
  {
   "cell_type": "code",
   "execution_count": 5,
   "id": "82c5c3bc-77bb-45b6-be5a-392020ef09cb",
   "metadata": {},
   "outputs": [],
   "source": [
    "def factorial(n):\n",
    "    '''returns n!'''\n",
    "    return 1 if n < 2 else n * factorial(n-1)\n",
    "\n",
    "factorial(42)\n",
    "\n",
    "fact = factorial"
   ]
  },
  {
   "cell_type": "code",
   "execution_count": 8,
   "id": "f600dcca-4baf-4232-8c12-3f002a31770f",
   "metadata": {},
   "outputs": [
    {
     "data": {
      "text/plain": [
       "<map at 0x24da55dc48>"
      ]
     },
     "execution_count": 8,
     "metadata": {},
     "output_type": "execute_result"
    }
   ],
   "source": [
    "map(factorial, range(11))"
   ]
  },
  {
   "cell_type": "code",
   "execution_count": 7,
   "id": "3d0fc147-2445-477d-8b90-146858a8e9bd",
   "metadata": {},
   "outputs": [
    {
     "data": {
      "text/plain": [
       "[1, 1, 2, 6, 24, 120, 720, 5040, 40320, 362880, 3628800]"
      ]
     },
     "execution_count": 7,
     "metadata": {},
     "output_type": "execute_result"
    }
   ],
   "source": [
    "list(map(fact, range(11)))"
   ]
  },
  {
   "cell_type": "code",
   "execution_count": null,
   "id": "17daa5a6-2e74-4121-a911-b0c4f2d5c5c0",
   "metadata": {},
   "outputs": [],
   "source": []
  }
 ],
 "metadata": {
  "kernelspec": {
   "display_name": "Python 3 (ipykernel)",
   "language": "python",
   "name": "python3"
  },
  "language_info": {
   "codemirror_mode": {
    "name": "ipython",
    "version": 3
   },
   "file_extension": ".py",
   "mimetype": "text/x-python",
   "name": "python",
   "nbconvert_exporter": "python",
   "pygments_lexer": "ipython3",
   "version": "3.7.11"
  }
 },
 "nbformat": 4,
 "nbformat_minor": 5
}
